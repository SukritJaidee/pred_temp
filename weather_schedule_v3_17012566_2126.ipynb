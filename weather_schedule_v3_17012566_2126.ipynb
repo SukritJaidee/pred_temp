{
  "cells": [
    {
      "cell_type": "code",
      "execution_count": null,
      "metadata": {
        "id": "dd8IDqqE2_zy"
      },
      "outputs": [],
      "source": [
        "!git clone https://github.com/SukritJaidee/pred_temp.git \n",
        "%cd /content/pred_temp\n",
        "# !pip install -r requirements_colab_r1.txt\n",
        "\n",
        "!pip install scikit-learn==1.2.0 # [1.0.1, 1.0.2, 0.23.2]\n",
        "# !pip install -q APScheduler\n",
        "!pip install -q APScheduler==3.0.0\n",
        "# !pip install -q apscheduler\n",
        "# !pip install -q apscheduler==2.1.2\n",
        "\n",
        "!pip install -q meteostat\n",
        "!pip install -q mercantile\n",
        "!pip install -q mpmath\n",
        "# !pip install --pre pycaret\n",
        "!pip install git+https://github.com/pycaret/pycaret.git#egg=pycaret"
      ]
    },
    {
      "cell_type": "code",
      "execution_count": null,
      "metadata": {
        "id": "t64bz8Ne3NzR"
      },
      "outputs": [],
      "source": [
        "import time\n",
        "import pytz\n",
        "# import schedule\n",
        "from apscheduler.schedulers.blocking import BlockingScheduler\n",
        "import warnings\n",
        "import numpy as np\n",
        "import pandas as pd\n",
        "from tqdm import tqdm\n",
        "import matplotlib.pyplot as plt\n",
        "from pycaret.regression import *\n",
        "from datetime import datetime, timedelta, date, tzinfo\n",
        "warnings.filterwarnings(\"ignore\")\n",
        "\n",
        "from pred_temp.x3_ibm_api import x3_api\n",
        "from pred_temp.tmd_api import tmd_weather\n",
        "from pred_temp.x4_weather_api import x4_api\n",
        "from pred_temp.loc_level10 import get_level10_pos\n",
        "from pred_temp.x1_station_meteo_api import x1_api\n",
        "from pred_temp.x2_point_meteo_api import x2_api, x1_station_x2\n",
        "path_save = '/content/drive/MyDrive/result_weather/' ## เปลี่ยน path ที่จะ save csv file ที่นี่"
      ]
    },
    {
      "cell_type": "code",
      "execution_count": null,
      "metadata": {
        "id": "q6G0OwouLUzN"
      },
      "outputs": [],
      "source": [
        "def cal_from_source(q1, now_datetime, format_date, saved_lr):\n",
        "  #### x0\n",
        "  diff_time, hour, duration = 0, 0, 24\n",
        "  day = (datetime.now(pytz.timezone('Asia/Bangkok'))+timedelta(diff_time)).strftime(\"%Y-%m-%d\")\n",
        "  x0 = tmd_weather(q1[0], q1[1], day, hour, duration)\n",
        "  #### x1\n",
        "  start_date, end_date = -1, 1\n",
        "  start = pd.to_datetime((now_datetime+timedelta(start_date)).strftime(format_date))\n",
        "  end = pd.to_datetime((now_datetime+timedelta(end_date)).strftime(format_date))\n",
        "  x1 = x1_api(q1, start, end)\n",
        "  #### x2\n",
        "  x2 = x2_api(q1, start, end)\n",
        "  if x2.shape[0] == 0:\n",
        "    x2 = x1_station_x2(q1, start=-1, end=1)\n",
        "    x2.drop(['latitude', 'longitude', 'elevation', 'distance'], axis=1, inplace=True)\n",
        "    x2 = x2.reindex(columns=['temp', 'dwpt', 'rhum', 'wdir', 'wspd', 'pres', 'lat', 'lon', 'year', 'month', 'day', 'hour', 'minute'])\n",
        "  #### x3\n",
        "  apikey =  \"2601b3bc3f684d2681b3bc3f687d26f8\"\n",
        "  format_date, start_date, end_date  = \"%Y-%m-%d\", 0, 1\n",
        "  start = pd.to_datetime(now_datetime+timedelta(start_date)).strftime(format_date)\n",
        "  end = pd.to_datetime(now_datetime+timedelta(end_date)).strftime(format_date)\n",
        "  x3 = x3_api(q1, start, end, apikey)\n",
        "  #### x4\n",
        "  x4  = x4_api(q1, start, end)\n",
        "  res = pd.concat([x0, x1, x2, x3, x4], axis=1,  join=\"inner\")\n",
        "  res  = res.iloc[-1:,:]\n",
        "  return res\n",
        "  \n",
        "## Initial values\n",
        "df = get_level10_pos()\n",
        "models = 'Final Blend Model 20112022_950_ibm'\n",
        "saved_lr = load_model(models)\n",
        "cols = ['lat', 'lon', 'latitude', 'longitude', 'elevation', 'distance', 'temp', 'dwpt', 'rhum', 'wdir', 'wspd', 'year', 'month', 'day', 'hour', 'minute', 'temp.1', 'dwpt.1', 'rhum.1', 'wdir.1', 'wspd.1',\n",
        "                  'pres', 'lat.1', 'lon.1', 'year.1', 'month.1', 'day.1', 'hour.1', 'minute.1', 'requestedLatitude', 'requestedLongitude', 'latitude.1', 'longitude.1', 'precip1Hour', 'precip6Hour', 'precip24Hour', 'pressureChange',\n",
        "                  'pressureMeanSeaLevel', 'relativeHumidity', 'temperature', 'temperatureChange24Hour', 'temperatureMax24Hour', 'temperatureMin24Hour', 'temperatureDewPoint', 'temperatureFeelsLike', 'uvIndex',\n",
        "                  'visibility', 'windDirection', 'windSpeed', 'lat.2', 'lon.2', 'lats', 'lons', 'temp_cs', 'wind_kphs', 'wind_degrees', 'wind_dirs', 'pressure_mbs', 'precip_mms', 'humiditys', 'clouds', 'feelslike_cs',\n",
        "                  'windchill_cs', 'heatindex_cs', 'dewpoint_cs', 'will_it_rains', 'chance_of_rains', 'vis_kms', 'gust_kphs']"
      ]
    },
    {
      "cell_type": "code",
      "execution_count": null,
      "metadata": {
        "id": "34fSINffDA4A"
      },
      "outputs": [],
      "source": [
        "def deploy_schedule(df, now_datetime, format_date, saved_lr, start_cp):\n",
        "    k = 0\n",
        "    for  i in tqdm(range(len(df))):\n",
        "        lat, lon = df['lat_south'][i], df['lon_east'][i]\n",
        "        q1 = (lat, lon)\n",
        "        try:\n",
        "            if k == 0:\n",
        "              res_update = cal_from_source(q1, now_datetime, format_date, saved_lr)\n",
        "            else:\n",
        "              res = cal_from_source(q1, now_datetime, format_date, saved_lr)\n",
        "              res_update = pd.concat([res_update, res], axis=0)\n",
        "            k+=1\n",
        "        except:\n",
        "            try:\n",
        "                res_update_v, res_v = res_update.values, res.values\n",
        "                cols_raw = res_update.columns\n",
        "                res_update = np.concatenate((res_update_v, res_v), axis=0)\n",
        "                res_update = pd.DataFrame(res_update, columns=cols_raw)\n",
        "            except:\n",
        "                print(f'error i ={i}, lat = {round(lat,2)}, lon = {round(lon,2)}')\n",
        "    # #calculate\n",
        "    res1 = res_update.drop(['tc', 'rh', 'datatime'], axis=1)\n",
        "    res1.columns = cols\n",
        "    res1.reset_index(drop=True, inplace=True)\n",
        "    \n",
        "    unseen_pred = predict_model(saved_lr, data=res1)\n",
        "    actual = res_update[['tc', 'datatime']]\n",
        "    actual.reset_index(drop=True, inplace=True)\n",
        "    res2 = pd.concat([unseen_pred, actual], axis=1,  join=\"inner\")\n",
        "\n",
        "    df_val = res2[['prediction_label', 'tc', 'temperature', 'datatime']]\n",
        "    df_loc = res1[['lat', 'lon']]\n",
        "    result = pd.concat([df_loc, df_val], axis=1,  join=\"inner\")\n",
        "\n",
        "    success = True\n",
        "    end_cp = datetime.now(pytz.timezone('Asia/Bangkok'))\n",
        "    delta = end_cp - start_cp\n",
        "    min = (delta.total_seconds()) / 60\n",
        "    print('minutes:', min)\n",
        "    start_cp, end_cp = start_cp.strftime(\"%d_%m_%Y_%H_%M\"), end_cp.strftime(\"%d_%m_%Y_%H_%M\")\n",
        "    info = pd.DataFrame({'success':[str(success)], 'datetime':[str(start_cp)], 'start_compute':[str(start_cp)], 'end_compute':[str(end_cp)]})\n",
        "    info.to_csv(path_save+ 'data/'+'data_'+start_cp+'_info_BlockingScheduler.csv' ,encoding='utf-8-sig')\n",
        "    result.to_csv(path_save+'data/'+'data_'+start_cp+'_data_BlockingScheduler.csv' ,encoding='utf-8-sig')\n",
        "    return True"
      ]
    },
    {
      "cell_type": "code",
      "execution_count": null,
      "metadata": {
        "colab": {
          "base_uri": "https://localhost:8080/"
        },
        "id": "qvS7_OzuG3iB",
        "outputId": "d3628c70-27cf-4015-ccdb-cbd7a9503419"
      },
      "outputs": [
        {
          "output_type": "stream",
          "name": "stdout",
          "text": [
            "I'm working 2023-01-17 16:26:37\n"
          ]
        },
        {
          "output_type": "stream",
          "name": "stderr",
          "text": [
            " 70%|███████   | 772/1100 [38:01<20:31,  3.76s/it]"
          ]
        }
      ],
      "source": [
        "def job_B():\n",
        "    format_date = \"%Y-%m-%d %H:%M:%S\"\n",
        "    now_datetime = datetime.now(pytz.timezone('Asia/Bangkok'))\n",
        "    start_cp = datetime.now(pytz.timezone('Asia/Bangkok'))\n",
        "    print(\"I'm working %s\"%(datetime.now().strftime('%Y-%m-%d %H:%M:%S')))\n",
        "    success_r = deploy_schedule(df, now_datetime, format_date, saved_lr, start_cp)\n",
        "    print(success_r)\n",
        "    return success_r\n",
        "    \n",
        "scheduler = BlockingScheduler()\n",
        "scheduler.add_job(job_B, 'interval', hours=1)\n",
        "scheduler.start()"
      ]
    }
  ],
  "metadata": {
    "colab": {
      "machine_shape": "hm",
      "provenance": []
    },
    "gpuClass": "premium",
    "kernelspec": {
      "display_name": "Python 3",
      "name": "python3"
    },
    "language_info": {
      "name": "python"
    }
  },
  "nbformat": 4,
  "nbformat_minor": 0
}