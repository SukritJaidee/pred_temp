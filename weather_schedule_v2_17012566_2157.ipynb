{
  "cells": [
    {
      "cell_type": "code",
      "execution_count": null,
      "metadata": {
        "id": "dd8IDqqE2_zy"
      },
      "outputs": [],
      "source": [
        "!git clone https://github.com/SukritJaidee/pred_temp.git \n",
        "%cd /content/pred_temp\n",
        "# !pip install -r requirements_colab_r1.txt\n",
        "\n",
        "!pip install -q scikit-learn==1.2.0 #[1.0.1, 1.0.2, 0.23.2]\n",
        "# !pip install APScheduler\n",
        "!pip install APScheduler==3.0.0\n",
        "# !pip install apscheduler\n",
        "# !pip install apscheduler==2.1.2\n",
        "\n",
        "!pip install -q meteostat\n",
        "!pip install -q mercantile\n",
        "!pip install -q mpmath\n",
        "# !pip install --pre pycaret\n",
        "!pip install git+https://github.com/pycaret/pycaret.git#egg=pycaret"
      ]
    },
    {
      "cell_type": "code",
      "execution_count": null,
      "metadata": {
        "id": "t64bz8Ne3NzR"
      },
      "outputs": [],
      "source": [
        "import time\n",
        "import pytz\n",
        "import warnings\n",
        "# import schedule\n",
        "import numpy as np\n",
        "import pandas as pd\n",
        "from tqdm import tqdm\n",
        "import matplotlib.pyplot as plt\n",
        "from pycaret.regression import *\n",
        "from datetime import datetime, timedelta, date, tzinfo\n",
        "warnings.filterwarnings(\"ignore\")\n",
        "\n",
        "from pred_temp.x3_ibm_api import x3_api\n",
        "from pred_temp.tmd_api import tmd_weather\n",
        "from pred_temp.x4_weather_api import x4_api\n",
        "from pred_temp.loc_level10 import get_level10_pos\n",
        "from pred_temp.x1_station_meteo_api import x1_api\n",
        "from pred_temp.x2_point_meteo_api import x2_api, x1_station_x2\n",
        "path_save = '/content/drive/MyDrive/result_weather/'"
      ]
    },
    {
      "cell_type": "code",
      "execution_count": null,
      "metadata": {
        "colab": {
          "base_uri": "https://localhost:8080/",
          "height": 141,
          "referenced_widgets": [
            "ce117dd3b0e8447199e37d32a7d14b12",
            "a15a9e0789ca48728dd6a874f3144f75",
            "7d81a94939b84553be5b1bf109a3c5ca",
            "36e9526ec2724c81852e6aed5f7945ed",
            "0710eb9671a746358d95273023533713",
            "773d073a9c874244999db03a2b8c6567",
            "1771ee9d41884bc1a04cc8cab6ff69d1",
            "0006df6671a548cab65084924aeebcb0",
            "0835a9949f254e49abd84bfe2b79b33c",
            "9794f1266ed14bafbe14b42f21445c62",
            "541563cf5c1f4ae1abf02e1350599ace"
          ]
        },
        "id": "q6G0OwouLUzN",
        "outputId": "290ae0eb-7561-425f-cd92-ee5220f7d12a"
      },
      "outputs": [
        {
          "name": "stdout",
          "output_type": "stream",
          "text": [
            "Downloading 1100 tiles\n"
          ]
        },
        {
          "data": {
            "application/vnd.jupyter.widget-view+json": {
              "model_id": "ce117dd3b0e8447199e37d32a7d14b12",
              "version_major": 2,
              "version_minor": 0
            },
            "text/plain": [
              "  0%|          | 0/25 [00:00<?, ?it/s]"
            ]
          },
          "metadata": {
            "application/vnd.jupyter.widget-view+json": {
              "colab": {
                "custom_widget_manager": {
                  "url": "https://ssl.gstatic.com/colaboratory-static/widgets/colab-cdn-widget-manager/b3e629b1971e1542/manager.min.js"
                }
              }
            }
          },
          "output_type": "display_data"
        },
        {
          "name": "stdout",
          "output_type": "stream",
          "text": [
            "(1100, 4)\n",
            "   lon_west  lat_north  lat_south   lon_east\n",
            "0  97.03125  20.632784  20.303418  97.382812\n",
            "Transformation Pipeline and Model Successfully Loaded\n"
          ]
        }
      ],
      "source": [
        "def cal_from_source(q1, now_datetime, format_date, saved_lr):\n",
        "  #### x0\n",
        "  diff_time, hour, duration = 0, 0, 24\n",
        "  day = (datetime.now(pytz.timezone('Asia/Bangkok'))+timedelta(diff_time)).strftime(\"%Y-%m-%d\")\n",
        "  x0 = tmd_weather(q1[0], q1[1], day, hour, duration)\n",
        "  #### x1\n",
        "  start_date, end_date = -1, 1\n",
        "  start = pd.to_datetime((now_datetime+timedelta(start_date)).strftime(format_date))\n",
        "  end = pd.to_datetime((now_datetime+timedelta(end_date)).strftime(format_date))\n",
        "  x1 = x1_api(q1, start, end)\n",
        "  #### x2\n",
        "  x2 = x2_api(q1, start, end)\n",
        "  if x2.shape[0] == 0:\n",
        "    x2 = x1_station_x2(q1, start=-1, end=1)\n",
        "    x2.drop(['latitude', 'longitude', 'elevation', 'distance'], axis=1, inplace=True)\n",
        "    x2 = x2.reindex(columns=['temp', 'dwpt', 'rhum', 'wdir', 'wspd', 'pres', 'lat', 'lon', 'year', 'month', 'day', 'hour', 'minute'])\n",
        "  #### x3\n",
        "  apikey =  \"2601b3bc3f684d2681b3bc3f687d26f8\"\n",
        "  format_date, start_date, end_date  = \"%Y-%m-%d\", 0, 1\n",
        "  start = pd.to_datetime(now_datetime+timedelta(start_date)).strftime(format_date)\n",
        "  end = pd.to_datetime(now_datetime+timedelta(end_date)).strftime(format_date)\n",
        "  x3 = x3_api(q1, start, end, apikey)\n",
        "  #### x4\n",
        "  x4  = x4_api(q1, start, end)\n",
        "  res = pd.concat([x0, x1, x2, x3, x4], axis=1,  join=\"inner\")\n",
        "  res  = res.iloc[-1:,:]\n",
        "  return res\n",
        "  \n",
        "## Initial value\n",
        "df = get_level10_pos()\n",
        "models = 'Final Blend Model 20112022_950_ibm'\n",
        "saved_lr = load_model(models)\n",
        "cols = ['lat', 'lon', 'latitude', 'longitude', 'elevation', 'distance', 'temp', 'dwpt', 'rhum', 'wdir', 'wspd', 'year', 'month', 'day', 'hour', 'minute', 'temp.1', 'dwpt.1', 'rhum.1', 'wdir.1', 'wspd.1',\n",
        "                  'pres', 'lat.1', 'lon.1', 'year.1', 'month.1', 'day.1', 'hour.1', 'minute.1', 'requestedLatitude', 'requestedLongitude', 'latitude.1', 'longitude.1', 'precip1Hour', 'precip6Hour', 'precip24Hour', 'pressureChange',\n",
        "                  'pressureMeanSeaLevel', 'relativeHumidity', 'temperature', 'temperatureChange24Hour', 'temperatureMax24Hour', 'temperatureMin24Hour', 'temperatureDewPoint', 'temperatureFeelsLike', 'uvIndex',\n",
        "                  'visibility', 'windDirection', 'windSpeed', 'lat.2', 'lon.2', 'lats', 'lons', 'temp_cs', 'wind_kphs', 'wind_degrees', 'wind_dirs', 'pressure_mbs', 'precip_mms', 'humiditys', 'clouds', 'feelslike_cs',\n",
        "                  'windchill_cs', 'heatindex_cs', 'dewpoint_cs', 'will_it_rains', 'chance_of_rains', 'vis_kms', 'gust_kphs']"
      ]
    },
    {
      "cell_type": "code",
      "execution_count": null,
      "metadata": {
        "id": "34fSINffDA4A"
      },
      "outputs": [],
      "source": [
        "def deploy_schedule(df, now_datetime, format_date, saved_lr, start_cp):\n",
        "    k = 0\n",
        "    for  i in tqdm(range(len(df))):\n",
        "        lat, lon = df['lat_south'][i], df['lon_east'][i]\n",
        "        q1 = (lat, lon)\n",
        "        try:\n",
        "            if k == 0:\n",
        "              res_update = cal_from_source(q1, now_datetime, format_date, saved_lr)\n",
        "            else:\n",
        "              res = cal_from_source(q1, now_datetime, format_date, saved_lr)\n",
        "              res_update = pd.concat([res_update, res], axis=0)\n",
        "            k+=1\n",
        "        except:\n",
        "            try:\n",
        "                res_update_v, res_v = res_update.values, res.values\n",
        "                cols_raw = res_update.columns\n",
        "                res_update = np.concatenate((res_update_v, res_v), axis=0)\n",
        "                res_update = pd.DataFrame(res_update, columns=cols_raw)\n",
        "            except:\n",
        "                print(f'error i ={i}, lat = {round(lat,2)}, lon = {round(lon,2)}')\n",
        "\n",
        "    ## calculate\n",
        "    res1 = res_update.drop(['tc', 'rh', 'datatime'], axis=1)\n",
        "    res1.columns = cols\n",
        "    res1.reset_index(drop=True, inplace=True)\n",
        "    \n",
        "    unseen_pred = predict_model(saved_lr, data=res1)\n",
        "    actual = res_update[['tc', 'datatime']]\n",
        "    actual.reset_index(drop=True, inplace=True)\n",
        "    res2 = pd.concat([unseen_pred, actual], axis=1,  join=\"inner\")\n",
        "\n",
        "    df_val = res2[['prediction_label', 'tc', 'temperature', 'datatime']]\n",
        "    df_loc = res1[['lat', 'lon']]\n",
        "    result = pd.concat([df_loc, df_val], axis=1,  join=\"inner\")\n",
        "\n",
        "    success = True\n",
        "    end_cp = datetime.now(pytz.timezone('Asia/Bangkok'))\n",
        "    delta = end_cp - start_cp\n",
        "    min = (delta.total_seconds()) / 60\n",
        "    print('minutes:', min)\n",
        "    start_cp, end_cp = start_cp.strftime(\"%d_%m_%Y_%H_%M\"), end_cp.strftime(\"%d_%m_%Y_%H_%M\")\n",
        "    info = pd.DataFrame({'success':[str(success)], 'datetime':[str(start_cp)], 'start_compute':[str(start_cp)], 'end_compute':[str(end_cp)]})\n",
        "    info.to_csv(path_save+'data/v4/'+'data_'+start_cp+'_info_delta.csv' ,encoding='utf-8-sig')\n",
        "    result.to_csv(path_save+'data/v4/'+'data_'+start_cp+'_data_delta.csv' ,encoding='utf-8-sig')\n",
        "    return True"
      ]
    },
    {
      "cell_type": "code",
      "execution_count": null,
      "metadata": {
        "id": "3Jzk2H1vMXeJ"
      },
      "outputs": [],
      "source": [
        "def job_B():\n",
        "    format_date = \"%Y-%m-%d %H:%M:%S\"\n",
        "    now_datetime = datetime.now(pytz.timezone('Asia/Bangkok'))\n",
        "    start_cp = datetime.now(pytz.timezone('Asia/Bangkok'))\n",
        "    print(\"I'm working %s\"%(datetime.now().strftime('%Y-%m-%d %H:%M:%S')))\n",
        "    success_r = deploy_schedule(df, now_datetime, format_date, saved_lr, start_cp)\n",
        "    print(success_r)\n",
        "    return success_r"
      ]
    },
    {
      "cell_type": "code",
      "execution_count": null,
      "metadata": {
        "colab": {
          "base_uri": "https://localhost:8080/"
        },
        "id": "H6yNCsBNCY_X",
        "outputId": "256c957c-78af-4a9c-f62e-9c30bdad20f8"
      },
      "outputs": [
        {
          "output_type": "stream",
          "name": "stderr",
          "text": [
            "100%|██████████| 1100/1100 [53:08<00:00,  2.90s/it]\n"
          ]
        },
        {
          "output_type": "stream",
          "name": "stdout",
          "text": [
            "minutes: 53.154497750000004\n",
            "True\n",
            "error\n",
            "Run something..\n",
            "I'm working 2023-01-17 16:48:41\n"
          ]
        },
        {
          "output_type": "stream",
          "name": "stderr",
          "text": [
            " 31%|███       | 338/1100 [16:01<37:02,  2.92s/it]"
          ]
        }
      ],
      "source": [
        "while 1:\n",
        "  try:\n",
        "    print('Run something..')\n",
        "    dt = datetime.now(pytz.timezone('Asia/Bangkok')) + timedelta(hours=1)\n",
        "    dt = dt.replace(minute=59)\n",
        "    job_B()\n",
        "    while datetime.now() < dt:\n",
        "        time.sleep(1)\n",
        "  except:\n",
        "    print(\"Error\")"
      ]
    }
  ],
  "metadata": {
    "colab": {
      "provenance": []
    },
    "gpuClass": "standard",
    "kernelspec": {
      "display_name": "Python 3",
      "name": "python3"
    },
    "language_info": {
      "name": "python"
    },
    "widgets": {
      "application/vnd.jupyter.widget-state+json": {
        "0006df6671a548cab65084924aeebcb0": {
          "model_module": "@jupyter-widgets/base",
          "model_module_version": "1.2.0",
          "model_name": "LayoutModel",
          "state": {
            "_model_module": "@jupyter-widgets/base",
            "_model_module_version": "1.2.0",
            "_model_name": "LayoutModel",
            "_view_count": null,
            "_view_module": "@jupyter-widgets/base",
            "_view_module_version": "1.2.0",
            "_view_name": "LayoutView",
            "align_content": null,
            "align_items": null,
            "align_self": null,
            "border": null,
            "bottom": null,
            "display": null,
            "flex": null,
            "flex_flow": null,
            "grid_area": null,
            "grid_auto_columns": null,
            "grid_auto_flow": null,
            "grid_auto_rows": null,
            "grid_column": null,
            "grid_gap": null,
            "grid_row": null,
            "grid_template_areas": null,
            "grid_template_columns": null,
            "grid_template_rows": null,
            "height": null,
            "justify_content": null,
            "justify_items": null,
            "left": null,
            "margin": null,
            "max_height": null,
            "max_width": null,
            "min_height": null,
            "min_width": null,
            "object_fit": null,
            "object_position": null,
            "order": null,
            "overflow": null,
            "overflow_x": null,
            "overflow_y": null,
            "padding": null,
            "right": null,
            "top": null,
            "visibility": null,
            "width": null
          }
        },
        "0710eb9671a746358d95273023533713": {
          "model_module": "@jupyter-widgets/base",
          "model_module_version": "1.2.0",
          "model_name": "LayoutModel",
          "state": {
            "_model_module": "@jupyter-widgets/base",
            "_model_module_version": "1.2.0",
            "_model_name": "LayoutModel",
            "_view_count": null,
            "_view_module": "@jupyter-widgets/base",
            "_view_module_version": "1.2.0",
            "_view_name": "LayoutView",
            "align_content": null,
            "align_items": null,
            "align_self": null,
            "border": null,
            "bottom": null,
            "display": null,
            "flex": null,
            "flex_flow": null,
            "grid_area": null,
            "grid_auto_columns": null,
            "grid_auto_flow": null,
            "grid_auto_rows": null,
            "grid_column": null,
            "grid_gap": null,
            "grid_row": null,
            "grid_template_areas": null,
            "grid_template_columns": null,
            "grid_template_rows": null,
            "height": null,
            "justify_content": null,
            "justify_items": null,
            "left": null,
            "margin": null,
            "max_height": null,
            "max_width": null,
            "min_height": null,
            "min_width": null,
            "object_fit": null,
            "object_position": null,
            "order": null,
            "overflow": null,
            "overflow_x": null,
            "overflow_y": null,
            "padding": null,
            "right": null,
            "top": null,
            "visibility": null,
            "width": null
          }
        },
        "0835a9949f254e49abd84bfe2b79b33c": {
          "model_module": "@jupyter-widgets/controls",
          "model_module_version": "1.5.0",
          "model_name": "ProgressStyleModel",
          "state": {
            "_model_module": "@jupyter-widgets/controls",
            "_model_module_version": "1.5.0",
            "_model_name": "ProgressStyleModel",
            "_view_count": null,
            "_view_module": "@jupyter-widgets/base",
            "_view_module_version": "1.2.0",
            "_view_name": "StyleView",
            "bar_color": null,
            "description_width": ""
          }
        },
        "1771ee9d41884bc1a04cc8cab6ff69d1": {
          "model_module": "@jupyter-widgets/controls",
          "model_module_version": "1.5.0",
          "model_name": "DescriptionStyleModel",
          "state": {
            "_model_module": "@jupyter-widgets/controls",
            "_model_module_version": "1.5.0",
            "_model_name": "DescriptionStyleModel",
            "_view_count": null,
            "_view_module": "@jupyter-widgets/base",
            "_view_module_version": "1.2.0",
            "_view_name": "StyleView",
            "description_width": ""
          }
        },
        "36e9526ec2724c81852e6aed5f7945ed": {
          "model_module": "@jupyter-widgets/controls",
          "model_module_version": "1.5.0",
          "model_name": "HTMLModel",
          "state": {
            "_dom_classes": [],
            "_model_module": "@jupyter-widgets/controls",
            "_model_module_version": "1.5.0",
            "_model_name": "HTMLModel",
            "_view_count": null,
            "_view_module": "@jupyter-widgets/controls",
            "_view_module_version": "1.5.0",
            "_view_name": "HTMLView",
            "description": "",
            "description_tooltip": null,
            "layout": "IPY_MODEL_9794f1266ed14bafbe14b42f21445c62",
            "placeholder": "​",
            "style": "IPY_MODEL_541563cf5c1f4ae1abf02e1350599ace",
            "value": " 25/25 [00:00&lt;00:00, 666.70it/s]"
          }
        },
        "541563cf5c1f4ae1abf02e1350599ace": {
          "model_module": "@jupyter-widgets/controls",
          "model_module_version": "1.5.0",
          "model_name": "DescriptionStyleModel",
          "state": {
            "_model_module": "@jupyter-widgets/controls",
            "_model_module_version": "1.5.0",
            "_model_name": "DescriptionStyleModel",
            "_view_count": null,
            "_view_module": "@jupyter-widgets/base",
            "_view_module_version": "1.2.0",
            "_view_name": "StyleView",
            "description_width": ""
          }
        },
        "773d073a9c874244999db03a2b8c6567": {
          "model_module": "@jupyter-widgets/base",
          "model_module_version": "1.2.0",
          "model_name": "LayoutModel",
          "state": {
            "_model_module": "@jupyter-widgets/base",
            "_model_module_version": "1.2.0",
            "_model_name": "LayoutModel",
            "_view_count": null,
            "_view_module": "@jupyter-widgets/base",
            "_view_module_version": "1.2.0",
            "_view_name": "LayoutView",
            "align_content": null,
            "align_items": null,
            "align_self": null,
            "border": null,
            "bottom": null,
            "display": null,
            "flex": null,
            "flex_flow": null,
            "grid_area": null,
            "grid_auto_columns": null,
            "grid_auto_flow": null,
            "grid_auto_rows": null,
            "grid_column": null,
            "grid_gap": null,
            "grid_row": null,
            "grid_template_areas": null,
            "grid_template_columns": null,
            "grid_template_rows": null,
            "height": null,
            "justify_content": null,
            "justify_items": null,
            "left": null,
            "margin": null,
            "max_height": null,
            "max_width": null,
            "min_height": null,
            "min_width": null,
            "object_fit": null,
            "object_position": null,
            "order": null,
            "overflow": null,
            "overflow_x": null,
            "overflow_y": null,
            "padding": null,
            "right": null,
            "top": null,
            "visibility": null,
            "width": null
          }
        },
        "7d81a94939b84553be5b1bf109a3c5ca": {
          "model_module": "@jupyter-widgets/controls",
          "model_module_version": "1.5.0",
          "model_name": "FloatProgressModel",
          "state": {
            "_dom_classes": [],
            "_model_module": "@jupyter-widgets/controls",
            "_model_module_version": "1.5.0",
            "_model_name": "FloatProgressModel",
            "_view_count": null,
            "_view_module": "@jupyter-widgets/controls",
            "_view_module_version": "1.5.0",
            "_view_name": "ProgressView",
            "bar_style": "success",
            "description": "",
            "description_tooltip": null,
            "layout": "IPY_MODEL_0006df6671a548cab65084924aeebcb0",
            "max": 25,
            "min": 0,
            "orientation": "horizontal",
            "style": "IPY_MODEL_0835a9949f254e49abd84bfe2b79b33c",
            "value": 25
          }
        },
        "9794f1266ed14bafbe14b42f21445c62": {
          "model_module": "@jupyter-widgets/base",
          "model_module_version": "1.2.0",
          "model_name": "LayoutModel",
          "state": {
            "_model_module": "@jupyter-widgets/base",
            "_model_module_version": "1.2.0",
            "_model_name": "LayoutModel",
            "_view_count": null,
            "_view_module": "@jupyter-widgets/base",
            "_view_module_version": "1.2.0",
            "_view_name": "LayoutView",
            "align_content": null,
            "align_items": null,
            "align_self": null,
            "border": null,
            "bottom": null,
            "display": null,
            "flex": null,
            "flex_flow": null,
            "grid_area": null,
            "grid_auto_columns": null,
            "grid_auto_flow": null,
            "grid_auto_rows": null,
            "grid_column": null,
            "grid_gap": null,
            "grid_row": null,
            "grid_template_areas": null,
            "grid_template_columns": null,
            "grid_template_rows": null,
            "height": null,
            "justify_content": null,
            "justify_items": null,
            "left": null,
            "margin": null,
            "max_height": null,
            "max_width": null,
            "min_height": null,
            "min_width": null,
            "object_fit": null,
            "object_position": null,
            "order": null,
            "overflow": null,
            "overflow_x": null,
            "overflow_y": null,
            "padding": null,
            "right": null,
            "top": null,
            "visibility": null,
            "width": null
          }
        },
        "a15a9e0789ca48728dd6a874f3144f75": {
          "model_module": "@jupyter-widgets/controls",
          "model_module_version": "1.5.0",
          "model_name": "HTMLModel",
          "state": {
            "_dom_classes": [],
            "_model_module": "@jupyter-widgets/controls",
            "_model_module_version": "1.5.0",
            "_model_name": "HTMLModel",
            "_view_count": null,
            "_view_module": "@jupyter-widgets/controls",
            "_view_module_version": "1.5.0",
            "_view_name": "HTMLView",
            "description": "",
            "description_tooltip": null,
            "layout": "IPY_MODEL_773d073a9c874244999db03a2b8c6567",
            "placeholder": "​",
            "style": "IPY_MODEL_1771ee9d41884bc1a04cc8cab6ff69d1",
            "value": "100%"
          }
        },
        "ce117dd3b0e8447199e37d32a7d14b12": {
          "model_module": "@jupyter-widgets/controls",
          "model_module_version": "1.5.0",
          "model_name": "HBoxModel",
          "state": {
            "_dom_classes": [],
            "_model_module": "@jupyter-widgets/controls",
            "_model_module_version": "1.5.0",
            "_model_name": "HBoxModel",
            "_view_count": null,
            "_view_module": "@jupyter-widgets/controls",
            "_view_module_version": "1.5.0",
            "_view_name": "HBoxView",
            "box_style": "",
            "children": [
              "IPY_MODEL_a15a9e0789ca48728dd6a874f3144f75",
              "IPY_MODEL_7d81a94939b84553be5b1bf109a3c5ca",
              "IPY_MODEL_36e9526ec2724c81852e6aed5f7945ed"
            ],
            "layout": "IPY_MODEL_0710eb9671a746358d95273023533713"
          }
        }
      }
    }
  },
  "nbformat": 4,
  "nbformat_minor": 0
}