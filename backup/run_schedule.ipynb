{
 "cells": [
  {
   "cell_type": "code",
   "execution_count": 1,
   "id": "ede39e86-ad1b-4179-a745-8a340bdf8378",
   "metadata": {},
   "outputs": [],
   "source": [
    "import pytz\n",
    "import warnings\n",
    "import numpy as np\n",
    "import pandas as pd\n",
    "from tqdm import tqdm\n",
    "import matplotlib.pyplot as plt\n",
    "from pycaret.regression import *\n",
    "from datetime import datetime, timedelta, date, tzinfo\n",
    "warnings.filterwarnings(\"ignore\")\n",
    "\n",
    "from x3_ibm_api import x3_api\n",
    "from tmd_api import tmd_weather\n",
    "from x4_weather_api import x4_api\n",
    "from x1_station_meteo_api import x1_api\n",
    "from loc_level10 import get_level10_pos\n",
    "from x2_point_meteo_api import x2_api, x1_station_x2"
   ]
  },
  {
   "cell_type": "code",
   "execution_count": 2,
   "id": "2bf0126f-9615-42e0-b2eb-e9e96fb6208d",
   "metadata": {},
   "outputs": [],
   "source": [
    "def cal_from_source(q1, now_datetime, format_date, saved_lr):\n",
    "  #### x0\n",
    "  diff_time, hour, duration = 0, 0, 24\n",
    "  day = (datetime.now(pytz.timezone('Asia/Bangkok'))+timedelta(diff_time)).strftime(\"%Y-%m-%d\")\n",
    "  x0 = tmd_weather(q1[0], q1[1], day, hour, duration)\n",
    "  #### x1\n",
    "  start_date, end_date = -1, 1\n",
    "  start = pd.to_datetime((now_datetime+timedelta(start_date)).strftime(format_date))\n",
    "  end = pd.to_datetime((now_datetime+timedelta(end_date)).strftime(format_date))\n",
    "  x1 = x1_api(q1, start, end)\n",
    "  #### x2\n",
    "  x2 = x2_api(q1, start, end)\n",
    "  if x2.shape[0] == 0:\n",
    "    x2 = x1_station_x2(q1, start=-1, end=1)\n",
    "    x2.drop(['latitude', 'longitude', 'elevation', 'distance'], axis=1, inplace=True)\n",
    "    x2 = x2.reindex(columns=['temp', 'dwpt', 'rhum', 'wdir', 'wspd', 'pres', 'lat', 'lon', 'year', 'month', 'day', 'hour', 'minute'])\n",
    "  #### x3\n",
    "  apikey =  \"2601b3bc3f684d2681b3bc3f687d26f8\"\n",
    "  format_date, start_date, end_date  = \"%Y-%m-%d\", 0, 1\n",
    "  start = pd.to_datetime(now_datetime+timedelta(start_date)).strftime(format_date)\n",
    "  end = pd.to_datetime(now_datetime+timedelta(end_date)).strftime(format_date)\n",
    "  x3 = x3_api(q1, start, end, apikey)\n",
    "  #### x4\n",
    "  x4  = x4_api(q1, start, end)\n",
    "  res = pd.concat([x0, x1, x2, x3, x4], axis=1,  join=\"inner\")\n",
    "  res  = res.iloc[-1:,:]\n",
    "  return res"
   ]
  },
  {
   "cell_type": "code",
   "execution_count": 3,
   "id": "c0a3362d-0bbf-4a06-b59b-d5035011031e",
   "metadata": {},
   "outputs": [
    {
     "name": "stdout",
     "output_type": "stream",
     "text": [
      "Downloading 1100 tiles\n"
     ]
    },
    {
     "name": "stderr",
     "output_type": "stream",
     "text": [
      "100%|████████████████████████████████████████████████████████████████████████████████| 25/25 [00:00<00:00, 4165.98it/s]"
     ]
    },
    {
     "name": "stdout",
     "output_type": "stream",
     "text": [
      "(1100, 4)\n",
      "   lon_west  lat_north  lat_south   lon_east\n",
      "0  97.03125  20.632784  20.303418  97.382812\n",
      "Transformation Pipeline and Model Successfully Loaded\n"
     ]
    },
    {
     "name": "stderr",
     "output_type": "stream",
     "text": [
      "\n"
     ]
    }
   ],
   "source": [
    "## Initial value\n",
    "df = get_level10_pos()\n",
    "now_datetime  = datetime.now(pytz.timezone('Asia/Bangkok'))\n",
    "format_date = \"%Y-%m-%d %H:%M:%S\"\n",
    "models = 'Blend'\n",
    "lats, lons, datetimes, pred_vals, tmd_vals = [], [], [],  [], []\n",
    "saved_lr = load_model(models)\n",
    "start_cp = datetime.now(pytz.timezone('Asia/Bangkok'))\n",
    "cols = ['lat', 'lon', 'latitude', 'longitude', 'elevation', 'distance', 'temp', 'dwpt', 'rhum', 'wdir', 'wspd', 'year', 'month', 'day', 'hour', 'minute', 'temp.1', 'dwpt.1', 'rhum.1', 'wdir.1', 'wspd.1',\n",
    "                  'pres', 'lat.1', 'lon.1', 'year.1', 'month.1', 'day.1', 'hour.1', 'minute.1', 'requestedLatitude', 'requestedLongitude', 'latitude.1', 'longitude.1', 'precip1Hour', 'precip6Hour', 'precip24Hour', 'pressureChange',\n",
    "                  'pressureMeanSeaLevel', 'relativeHumidity', 'temperature', 'temperatureChange24Hour', 'temperatureMax24Hour', 'temperatureMin24Hour', 'temperatureDewPoint', 'temperatureFeelsLike', 'uvIndex',\n",
    "                  'visibility', 'windDirection', 'windSpeed', 'lat.2', 'lon.2', 'lats', 'lons', 'temp_cs', 'wind_kphs', 'wind_degrees', 'wind_dirs', 'pressure_mbs', 'precip_mms', 'humiditys', 'clouds', 'feelslike_cs',\n",
    "                  'windchill_cs', 'heatindex_cs', 'dewpoint_cs', 'will_it_rains', 'chance_of_rains', 'vis_kms', 'gust_kphs']"
   ]
  },
  {
   "cell_type": "code",
   "execution_count": 4,
   "id": "9efb8ac3-1abe-4ef9-a8d9-ec70670e740a",
   "metadata": {},
   "outputs": [],
   "source": [
    "def deploy_schedule(df, now_datetime, format_date, saved_lr, start_cp):\n",
    "    k = 0\n",
    "    for  i in tqdm(range(len(df))):\n",
    "        lat, lon = df['lat_south'][i], df['lon_east'][i]\n",
    "        q1 = (lat, lon)\n",
    "        try:\n",
    "            if k == 0:\n",
    "              res_update = cal_from_source(q1, now_datetime, format_date, saved_lr)\n",
    "            else:\n",
    "              res = cal_from_source(q1, now_datetime, format_date, saved_lr)\n",
    "              res_update = pd.concat([res_update, res], axis=0)\n",
    "            k+=1\n",
    "        except:\n",
    "            try:\n",
    "                res_update_v, res_v = res_update.values, res.values\n",
    "                cols_raw = res_update.columns\n",
    "                res_update = np.concatenate((res_update_v, res_v), axis=0)\n",
    "                res_update = pd.DataFrame(res_update, columns=cols_raw)\n",
    "            except:\n",
    "              print(f'error i ={i}, lat = {lat}, lon = {lon}')\n",
    "    #calculate\n",
    "    res1 = res_update.drop(['tc', 'rh', 'datatime'], axis=1)\n",
    "    res1.columns = cols\n",
    "    res1.reset_index(drop=True, inplace=True)\n",
    "    \n",
    "    unseen_pred = predict_model(saved_lr, data=res1)\n",
    "    actual = res_update[['tc', 'datatime']]\n",
    "    actual.reset_index(drop=True, inplace=True)\n",
    "    res2 = pd.concat([unseen_pred, actual], axis=1,  join=\"inner\")\n",
    "\n",
    "    df_val = res2[['prediction_label', 'tc', 'temperature', 'datatime']]\n",
    "    df_loc = res1[['lat', 'lon']]\n",
    "    result = pd.concat([df_loc, df_val], axis=1,  join=\"inner\")\n",
    "\n",
    "    success = True\n",
    "    end_cp = datetime.now(pytz.timezone('Asia/Bangkok'))\n",
    "    delta = end_cp - start_cp\n",
    "    min = (delta.total_seconds()) / 60\n",
    "    print('minutes:', min)\n",
    "    start_cp, end_cp = start_cp.strftime(\"%d%m%Y_%H%M\"), end_cp.strftime(\"%d%m%Y_%H%M\")\n",
    "    info = pd.DataFrame({'success':[str(success)], 'datetime':[str(start_cp)], 'start_compute':[str(start_cp)], 'end_compute':[str(end_cp)]})\n",
    "    info.to_csv('/data/'+'data'+start_cp+'_info.csv' ,encoding='utf-8-sig')\n",
    "    result.to_csv('/data/'+'data'+start_cp+'_data.csv' ,encoding='utf-8-sig')\n",
    "    # print(result.shape); print(result);\n",
    "    return True"
   ]
  },
  {
   "cell_type": "code",
   "execution_count": null,
   "id": "09f2eafa-51f2-4715-acd6-b297e1485285",
   "metadata": {},
   "outputs": [
    {
     "name": "stderr",
     "output_type": "stream",
     "text": [
      " 16%|████████████▉                                                                  | 181/1100 [08:29<38:36,  2.52s/it]"
     ]
    }
   ],
   "source": [
    "success_r = deploy_schedule(df, now_datetime, format_date, saved_lr, start_cp)\n",
    "print(success_r)"
   ]
  },
  {
   "cell_type": "code",
   "execution_count": null,
   "id": "e1c493dc-0213-4562-8686-2dbcad5ba07f",
   "metadata": {},
   "outputs": [],
   "source": []
  }
 ],
 "metadata": {
  "kernelspec": {
   "display_name": "Python 3 (ipykernel)",
   "language": "python",
   "name": "python3"
  },
  "language_info": {
   "codemirror_mode": {
    "name": "ipython",
    "version": 3
   },
   "file_extension": ".py",
   "mimetype": "text/x-python",
   "name": "python",
   "nbconvert_exporter": "python",
   "pygments_lexer": "ipython3",
   "version": "3.8.15"
  }
 },
 "nbformat": 4,
 "nbformat_minor": 5
}
